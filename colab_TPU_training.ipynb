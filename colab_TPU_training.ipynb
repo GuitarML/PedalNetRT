{
  "nbformat": 4,
  "nbformat_minor": 0,
  "metadata": {
    "colab": {
      "name": "pedalnet_training.ipynb",
      "provenance": [],
      "collapsed_sections": [],
      "toc_visible": true
    },
    "kernelspec": {
      "name": "python3",
      "display_name": "Python 3"
    },
    "accelerator": "TPU"
  },
  "cells": [
    {
      "cell_type": "code",
      "metadata": {
        "id": "MHkf8SbECuIn",
        "colab_type": "code",
        "colab": {}
      },
      "source": [
        "# To Train models, upload the pedalnet repository to your Google Drive account and run\n",
        "# the following code. In Colab options, go to \"Runtime\", \"Change Runtime Type\",\n",
        "# and change hardware accelerator to \"TPU\".\n",
        "#\n",
		"# Note: User needs to modify the train.py script to use TPUs. Uncomment line as instructed in the file notes.\n",
		"#\n",
        "# Note: Having difficulty saving and loading TPU model after converting to CPU.\n",
        "#       It can be done, but currently needs some work.\n",
        "\n",
        "!pip3 install torchvision\n",
        "!pip install pytorch-lightning\n",
        "\n",
        "!curl https://raw.githubusercontent.com/pytorch/xla/master/contrib/scripts/env-setup.py -o pytorch-xla-env-setup.py\n",
        "!python pytorch-xla-env-setup.py --version nightly --apt-packages libomp5 libopenblas-dev\n",
        "!pip install cloud-tpu-client==0.10 https://storage.googleapis.com/tpu-pytorch/wheels/torch_xla-1.6-cp36-cp36m-linux_x86_64.whl"
      ],
      "execution_count": null,
      "outputs": []
    },
    {
      "cell_type": "code",
      "metadata": {
        "id": "2LXpEvx5Htpr",
        "colab_type": "code",
        "colab": {}
      },
      "source": [
        "import torch\n",
        "use_cuda=True\n",
        "if use_cuda and torch.cuda.is_available():\n",
        "  net.cuda()"
      ],
      "execution_count": null,
      "outputs": []
    },
    {
      "cell_type": "code",
      "metadata": {
        "id": "Ch_3CBmk6tqK",
        "colab_type": "code",
        "colab": {}
      },
      "source": [
        "from google.colab import drive\n",
        "drive.mount('/content/drive')\n"
      ],
      "execution_count": null,
      "outputs": []
    },
    {
      "cell_type": "code",
      "metadata": {
        "id": "a4W98Rf771lR",
        "colab_type": "code",
        "colab": {}
      },
      "source": [
        "import os\n",
        "os.chdir('/content/drive/ENTER_YOUR_GOOGLE_DRIVE_PATH_HERE/pedalnet')\n",
        "os.getcwd()\n"
      ],
      "execution_count": null,
      "outputs": []
    },
    {
      "cell_type": "code",
      "metadata": {
        "id": "n9vktclZBGuc",
        "colab_type": "code",
        "colab": {}
      },
      "source": [
        "!python3 \"prepare_data.py\" \"data/ts9_test1_in_FP32.wav\" \"data/ts9_test1_out_FP32.wav\"\n"
      ],
      "execution_count": null,
      "outputs": []
    },
    {
      "cell_type": "code",
      "metadata": {
        "id": "XBb2THG2BtLm",
        "colab_type": "code",
        "colab": {}
      },
      "source": [
        "\n",
        "import os\n",
        "assert os.environ['COLAB_TPU_ADDR']\n",
        "import pytorch_lightning\n",
        "!python3 \"train.py\" --batch_size=32 --max_epochs=1500 --learning_rate=3e-3"
      ],
      "execution_count": null,
      "outputs": []
    },
    {
      "cell_type": "code",
      "metadata": {
        "id": "jinHl027kvhC",
        "colab_type": "code",
        "colab": {}
      },
      "source": [
        "import torch_xla\n",
        "import torch_xla.core.xla_model as xm\n",
        "\n",
        "from model import PedalNet\n",
        "# Change path below to match model file\n",
        "model = PedalNet.load_from_checkpoint('lightning_logs/version_0/checkpoints/epoch=1.ckpt')\n",
        "\n",
        "# xm.save(model.state_dict(), 'tpu_to_cpu.ckpt') \n",
        "xm.save(model, 'tpu_to_cpu_model.ckpt') \n",
        "# issues loading model, see pytorch_lightning issues #2303 and #3044 (Might be completed by now)\n",
        "\n",
        "# TODO: Add code to be able to load saved model sucessfully\n"
      ],
      "execution_count": null,
      "outputs": []
    }
  ]
}
