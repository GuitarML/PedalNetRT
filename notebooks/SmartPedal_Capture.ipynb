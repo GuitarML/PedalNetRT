{
  "cells": [
    {
      "cell_type": "markdown",
      "source": [
        "# GuitarML SmartPedal Capture Instructions\n",
        "---------------\n",
        "\n",
        "##### **Step 1**. Click \"Runtime\" in the Colab top menu bar, then \"Change Runtime Type\" and select \"GPU\" and save. You have a limited number of consecutive GPU hours with the free version of Colab, but this will reset in a day or so. \n",
        "\n",
        "##### **Step 2**. Upload your recorded output from your device by dragging and dropping the \"out.wav\" file to the file browser in the left hand window in Colab. Ensure that this file is named \"out.wav\".\n",
        "\n",
        "##### **Step 3**. Run the SETUP ENVIRONMENT section by clicking the run arrow on the top left of the box. Should take a few minutes. Scroll down to next step when finished.\n",
        "\n",
        "##### **Step 4**. Choose one (and only one) of the next 3 options as applicable to your captured device. This will begin the model training process. It should take about 12 minutes with GPU runtime selected. You may stop and resume this block if needed, the process will continue where it left off.\n",
        "        \n",
        "##### **Step 5**. Run this section to generate a Smart Pedal compatible model file. Download from the left hand file browser by right clicking the \"newSmartPedal.json\" filename in the left hand menu and selecting \"Download\". May need to refresh the filebrowser by clicking the refresh folder icon.\n",
        "\n",
        "##### **Step 6**. Optionally, generate a plot of the signals to visually see how close the model is to the actual device. \n",
        "------------\n",
        "**Note**: Recommended to \"Disconnect and delete runtime\" from the \"Runtime\" menu and \"Reconnect\" to reset the environment when training additional models. Make sure to download your trained model before disconnecting.\n",
        "\n",
        "**Note**: To continue to refine the model, you may run the same Step 4 (a,b,c) after increasing the \"--max_epochs\" field value. for example, in Step 4c., change \"--max_epochs=1300\" to \"--max_epochs=1400\" to run an additional 100 epochs.  Then re-run Step 5 to generate a new Smart Pedal compatible model. "
      ],
      "metadata": {
        "id": "7lC2JFyreHld"
      }
    },
    {
      "cell_type": "markdown",
      "source": [
        "### **STEP 3** : SETUP ENVIRONMENT\n",
        "###### Run this block to setup environment. May take a few minutes."
      ],
      "metadata": {
        "id": "fQyqI3bmeI-w"
      }
    },
    {
      "cell_type": "code",
      "source": [
        "!git clone https://github.com/GuitarML/PedalNetRT.git\n",
        "%cd PedalNetRT\n",
        "!git checkout smartpedal-capture\n",
        "!pip install -r requirements-colab.txt"
      ],
      "metadata": {
        "id": "a1qDp4e0dGVE"
      },
      "execution_count": null,
      "outputs": []
    },
    {
      "cell_type": "markdown",
      "source": [
        "### **STEP 4a**. Run this to start capture of CLEAN AMP, EDGE OF BREAKUP AMP, or COMPRESSOR"
      ],
      "metadata": {
        "id": "d_QF9mVeeKGv"
      }
    },
    {
      "cell_type": "code",
      "source": [
        "model=\"models/amp_clean/amp_clean_ht40.ckpt\"\n",
        "!python train.py data/SmartPedal_Capture.wav ../out.wav --resume --max_epochs=2300 --model=$model"
      ],
      "metadata": {
        "id": "RhitmV5RdGSk"
      },
      "execution_count": null,
      "outputs": []
    },
    {
      "cell_type": "markdown",
      "source": [
        "### **STEP 4b**. Run this to start capture of MEDIUM to HIGH GAIN AMP"
      ],
      "metadata": {
        "id": "-DRBeH2WeKmN"
      }
    },
    {
      "cell_type": "code",
      "source": [
        "model=\"models/amp_gain/amp_gain_ht40.ckpt\"\n",
        "!python train.py data/SmartPedal_Capture.wav ../out.wav --resume --max_epochs=1300 --model=$model"
      ],
      "metadata": {
        "id": "P9a6H3C9dGQA"
      },
      "execution_count": null,
      "outputs": []
    },
    {
      "cell_type": "markdown",
      "source": [
        "### **STEP 4c**.  Run this to start capture of OVERDRIVE, DISTORTION, BOOST PEDAL, or PRE-AMP"
      ],
      "metadata": {
        "id": "eSP9va-XeLDl"
      }
    },
    {
      "cell_type": "code",
      "source": [
        "model=\"models/pedal_overdrive/pedal_overdrive_ts9.ckpt\"\n",
        "!python train.py data/SmartPedal_Capture.wav ../out.wav --resume --max_epochs=1300 --model=$model"
      ],
      "metadata": {
        "id": "Wz236NGjdGNk"
      },
      "execution_count": null,
      "outputs": []
    },
    {
      "cell_type": "markdown",
      "source": [
        "### **STEP 5**. After Above Capture Process is Completed, Run this to generate a Smart Pedal compatible model file.\n",
        "###### The model file will be located in the top level folder with the name \"newSmartPedalModel.json\". May need to refresh the left hand file browser by clicking the refresh folder icon. Right click the file and choose download, then rename as appropriate."
      ],
      "metadata": {
        "id": "WMCRTH4XeLkN"
      }
    },
    {
      "cell_type": "code",
      "source": [
        "!python export.py --model=$model\n",
        "%cp $(dirname $model)\"/\"$(basename $model \".ckpt\")\".json\" ../\n",
        "%mv ../$(basename $model \".ckpt\")\".json\" ../newSmartPedalModel.json"
      ],
      "metadata": {
        "id": "pAYdOdxtdGLL"
      },
      "execution_count": null,
      "outputs": []
    },
    {
      "cell_type": "markdown",
      "source": [
        "### **STEP 6**. (Optional) After above Capture Process is completed, Run this to generate graphs of the device model\n",
        "######         The PNG image will be located in the top level folder with the name \"detail_signal_comparison_e2s...\". May need to refresh the left hand file browser by clicking the refresh folder icon. Double click the PNG file to view the graphs. These graphs show approximately 10 milliseconds of audio signal. The top plot shows the input signal. The middle plot shows the target device signal vs the signal predicted by the new model. The goal is for these signals to be as close as possible."
      ],
      "metadata": {
        "id": "eLdHGOtEeMm2"
      }
    },
    {
      "cell_type": "code",
      "source": [
        "!python test.py --model=$model\n",
        "!python plot.py --model=$model\n",
        "%cp $(dirname $model)\"/\"detail* ../"
      ],
      "metadata": {
        "id": "jfhsdLc7dVib"
      },
      "execution_count": null,
      "outputs": []
    },
    {
      "cell_type": "markdown",
      "source": [
        "### TROUBLESHOOTING NOTES\n",
        "\n",
        "\n",
        "\n",
        "1.   Training will go through 300 epochs, beginning with a pre-trained starting point model. The \"max_epochs\" field values are much higher due to the previous training of the model. For example, the pre-trained high gain amp model was trained for 1000 epochs, so the max_epochs are set to 1300 in the train.py command to conduct 300 additional epochs of training. The Clean Amp pre-trained model was trained for 2000 epochs so it is set to 2300 by default. This can be adjusted to more or less by changing the value in the \"max_epochs\" field.\n",
        "\n",
        "2.   If you are getting NaN/nan for the loss value check that your out.wav file was exported properly. If there is no actual audio in your out.wav you will see NaN/nan for the loss vlaues, and your model will not train.\n",
        "\n",
        "3. For ideal amplifier capture, record the direct out signal from a load box. Recommended to use a re-amp device when playing the SmartPedal_Capture.wav out of your audio device for impedence matching. \n",
        "\n",
        "4. If you run out of GPU runtime usage in Colab, add \"--cpu\" flag to the \"train.py\" command to train on the cpu. This will be much slower.\n",
        "\n",
        "    Example:\n",
        "       change this:\n",
        "                     !python train.py data/SmartPedal_Capture.wav ../out.wav --resume --max_epochs=2300 --model=$model\n",
        "       to this:\n",
        "                     !python train.py data/SmartPedal_Capture.wav ../out.wav --resume --max_epochs=2300 --model=$model --cpu\n",
        "\n",
        "2. This capture method is limited to non-time based effects (no Delay, Reverb, Flange, Phaser, etc.) It is intended for Amplifiers, Distortion, Overdrive, Boost, Preamps. Results on Compressors vary. \n",
        "\n",
        "6. Email \"smartguitarml@gmail.com\" for troubleshooting help, or to share Proteus models to add to the ToneLibrary.\n"
      ],
      "metadata": {
        "id": "uaATkP_aeNh9"
      }
    }
  ],
  "metadata": {
    "colab": {
      "collapsed_sections": [],
      "name": "SmartPedal Capture",
      "provenance": []
    },
    "kernelspec": {
      "display_name": "Python 3",
      "name": "python3"
    },
    "accelerator": "GPU"
  },
  "nbformat": 4,
  "nbformat_minor": 0
}